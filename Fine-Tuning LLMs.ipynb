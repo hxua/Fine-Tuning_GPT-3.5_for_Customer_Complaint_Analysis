{
  "cells": [
    {
      "cell_type": "markdown",
      "metadata": {
        "id": "2AqPte8bet51"
      },
      "source": [
        "# Fine-Tuning LLMs"
      ]
    },
    {
      "cell_type": "markdown",
      "metadata": {
        "id": "1Rp80dTGpsDD"
      },
      "source": [
        "### Step 1 - Set up the project environment\n",
        "Storing secret keys in an .env file is a vital security practice, bolstering data protection and\n",
        "mitigating risks."
      ]
    },
    {
      "cell_type": "code",
      "execution_count": 1,
      "metadata": {
        "id": "lx4wV2MIUJ8A"
      },
      "outputs": [],
      "source": [
        "# !pip install openai==1.55.3 httpx==0.27.2 python-dotenv pandas matplotlib"
      ]
    },
    {
      "cell_type": "markdown",
      "metadata": {
        "id": "qypdUNULptjB"
      },
      "source": [
        "Importing modules"
      ]
    },
    {
      "cell_type": "code",
      "execution_count": 1,
      "metadata": {
        "id": "YFmEp0r5T2eI"
      },
      "outputs": [
        {
          "name": "stdout",
          "output_type": "stream",
          "text": [
            "Modules are imported.\n"
          ]
        }
      ],
      "source": [
        "import pandas as pd\n",
        "import os, time\n",
        "from openai import OpenAI\n",
        "import openai\n",
        "from dotenv import load_dotenv\n",
        "import json\n",
        "import matplotlib.pyplot as plt\n",
        "\n",
        "print(\"Modules are imported.\")"
      ]
    },
    {
      "cell_type": "markdown",
      "metadata": {
        "id": "XfVAcV_XqDja"
      },
      "source": [
        "Setting up the OpenAI API:\n",
        "\n",
        "* Prepare a .env file to store the OpenAI API key.\n",
        "* Uploading the .env file to our colab environment\n",
        "* Load the API key and setup the API"
      ]
    },
    {
      "cell_type": "code",
      "execution_count": 2,
      "metadata": {
        "id": "rbXC4QM4qCBe"
      },
      "outputs": [],
      "source": [
        "load_dotenv('apikey.env.txt')\n",
        "APIKEY = os.getenv('APIKEY')\n",
        "ORGID=os.getenv('ORGID')"
      ]
    },
    {
      "cell_type": "markdown",
      "metadata": {
        "id": "rWxipGQIpxH8"
      },
      "source": [
        "Creating OpenAI Client"
      ]
    },
    {
      "cell_type": "code",
      "execution_count": 3,
      "metadata": {
        "id": "nHj-RaA5p0WE"
      },
      "outputs": [],
      "source": [
        "client = OpenAI(\n",
        "    api_key=APIKEY,\n",
        "    organization=ORGID\n",
        ")"
      ]
    },
    {
      "cell_type": "markdown",
      "metadata": {
        "id": "0r2XnfwnqTCK"
      },
      "source": [
        "### Step 2 - Prepare the training data"
      ]
    },
    {
      "cell_type": "markdown",
      "metadata": {
        "id": "-_Alc-CyuHmE"
      },
      "source": [
        "Loading the provided `Customer Complaints.csv`\n",
        "\n"
      ]
    },
    {
      "cell_type": "code",
      "execution_count": 5,
      "metadata": {
        "id": "jan2OKk5qW1J"
      },
      "outputs": [],
      "source": [
        "training_data = pd.read_csv(\"Customer Complaints.csv\")"
      ]
    },
    {
      "cell_type": "code",
      "execution_count": 6,
      "metadata": {},
      "outputs": [
        {
          "data": {
            "text/html": [
              "<div>\n",
              "<style scoped>\n",
              "    .dataframe tbody tr th:only-of-type {\n",
              "        vertical-align: middle;\n",
              "    }\n",
              "\n",
              "    .dataframe tbody tr th {\n",
              "        vertical-align: top;\n",
              "    }\n",
              "\n",
              "    .dataframe thead th {\n",
              "        text-align: right;\n",
              "    }\n",
              "</style>\n",
              "<table border=\"1\" class=\"dataframe\">\n",
              "  <thead>\n",
              "    <tr style=\"text-align: right;\">\n",
              "      <th></th>\n",
              "      <th>Complaints</th>\n",
              "      <th>Details</th>\n",
              "    </tr>\n",
              "  </thead>\n",
              "  <tbody>\n",
              "    <tr>\n",
              "      <th>0</th>\n",
              "      <td>Unreliable internet! Sick of constant outages...</td>\n",
              "      <td>{\"Topic\": \"Internet\", \"Problem\": \"Unreliable s...</td>\n",
              "    </tr>\n",
              "    <tr>\n",
              "      <th>1</th>\n",
              "      <td>TV signal keeps dropping during crucial momen...</td>\n",
              "      <td>{\"Topic\": \"TV\", \"Problem\": \"Signal dropout\", \"...</td>\n",
              "    </tr>\n",
              "    <tr>\n",
              "      <th>2</th>\n",
              "      <td>Phone line always crackling! Can't hear a thi...</td>\n",
              "      <td>{\"Topic\": \"Phone\", \"Problem\": \"Crackling line\"...</td>\n",
              "    </tr>\n",
              "  </tbody>\n",
              "</table>\n",
              "</div>"
            ],
            "text/plain": [
              "                                          Complaints  \\\n",
              "0   Unreliable internet! Sick of constant outages...   \n",
              "1   TV signal keeps dropping during crucial momen...   \n",
              "2   Phone line always crackling! Can't hear a thi...   \n",
              "\n",
              "                                             Details  \n",
              "0  {\"Topic\": \"Internet\", \"Problem\": \"Unreliable s...  \n",
              "1  {\"Topic\": \"TV\", \"Problem\": \"Signal dropout\", \"...  \n",
              "2  {\"Topic\": \"Phone\", \"Problem\": \"Crackling line\"...  "
            ]
          },
          "execution_count": 6,
          "metadata": {},
          "output_type": "execute_result"
        }
      ],
      "source": [
        "training_data.head(3)"
      ]
    },
    {
      "cell_type": "markdown",
      "metadata": {
        "id": "uIK863G-qvMN"
      },
      "source": [
        "**Converting the Complaints records to json**\n",
        "\n",
        "To be able to use the data for the fine-tuning purpose, we first need to convert each row of the dataframe into the following format:\n",
        "\n",
        "<pre>\n",
        "<code>\n",
        "{\n",
        "  <span style=\"color: blue;\">\"messages\"</span>: [\n",
        "    {\n",
        "      <span style=\"color: blue;\">\"role\"</span>: <span style=\"color: red;\">\"system\"</span>,\n",
        "      <span style=\"color: blue;\">\"content\"</span>: \"<span style=\"color: green;\">Providing context about the user's prompt.\n",
        "                  It may include information about the task,\n",
        "                  instructions, or background details relevant\n",
        "                  to the conversation.</span>\"\n",
        "    },\n",
        "    {\n",
        "      <span style=\"color: blue;\">\"role\"</span>: <span style=\"color: red;\">\"user\"</span>,\n",
        "      <span style=\"color: blue;\">\"content\"</span>: \"<span style=\"color: green;\">the prompt or input provided by the user,\n",
        "                  which typically initiates the conversation with the assistant.</span>\"\n",
        "    },\n",
        "    {\n",
        "      <span style=\"color: blue;\">\"role\"</span>: <span style=\"color: red;\">\"assistant\"</span>,\n",
        "      <span style=\"color: blue;\">\"content\"</span>: \"<span style=\"color: green;\">The desired response or output generated by\n",
        "                  the assistant in response to the user's prompt.</span>\"\n",
        "    }\n",
        "  ]\n",
        "}\n",
        "</code>\n",
        "</pre>"
      ]
    },
    {
      "cell_type": "markdown",
      "metadata": {
        "id": "fWVCfuvRjdXa"
      },
      "source": [
        "Define a method that get's a row of the dataframe and convert it into the json format"
      ]
    },
    {
      "cell_type": "code",
      "execution_count": 7,
      "metadata": {
        "id": "-tHnvRamq5NK"
      },
      "outputs": [],
      "source": [
        "def save_as_json(row):\n",
        "\n",
        "  system_content = \"\"\"\n",
        "      Given a customer complaint text, extract and return the following information in json (dict) format:\n",
        "      - Topic: The product/department that the customer has a complaint about.\n",
        "      - Problem: A two or three-word description of what exactly the problem is.\n",
        "      - Customer_Dissatisfaction_Index: is a number between 0 and 100 showing\n",
        "             how angry the customer is about the problem.\n",
        "  \"\"\"\n",
        "\n",
        "  formatted_data = {\n",
        "        \"messages\": [\n",
        "            {\"role\": \"system\", \"content\": system_content},\n",
        "            {\"role\": \"user\", \"content\": row.Complaints},\n",
        "            {\"role\": \"assistant\", \"content\": row.Details}\n",
        "        ]\n",
        "      }\n",
        "\n",
        "  with open(\"training_data.jsonl\", \"a\") as json_file:\n",
        "        json.dump(formatted_data, json_file)\n",
        "        json_file.write(\"\\n\")"
      ]
    },
    {
      "cell_type": "code",
      "execution_count": 14,
      "metadata": {},
      "outputs": [
        {
          "data": {
            "text/html": [
              "<div>\n",
              "<style scoped>\n",
              "    .dataframe tbody tr th:only-of-type {\n",
              "        vertical-align: middle;\n",
              "    }\n",
              "\n",
              "    .dataframe tbody tr th {\n",
              "        vertical-align: top;\n",
              "    }\n",
              "\n",
              "    .dataframe thead th {\n",
              "        text-align: right;\n",
              "    }\n",
              "</style>\n",
              "<table border=\"1\" class=\"dataframe\">\n",
              "  <thead>\n",
              "    <tr style=\"text-align: right;\">\n",
              "      <th></th>\n",
              "      <th>Complaints</th>\n",
              "      <th>Details</th>\n",
              "    </tr>\n",
              "  </thead>\n",
              "  <tbody>\n",
              "    <tr>\n",
              "      <th>0</th>\n",
              "      <td>Unreliable internet! Sick of constant outages...</td>\n",
              "      <td>{\"Topic\": \"Internet\", \"Problem\": \"Unreliable s...</td>\n",
              "    </tr>\n",
              "    <tr>\n",
              "      <th>1</th>\n",
              "      <td>TV signal keeps dropping during crucial momen...</td>\n",
              "      <td>{\"Topic\": \"TV\", \"Problem\": \"Signal dropout\", \"...</td>\n",
              "    </tr>\n",
              "  </tbody>\n",
              "</table>\n",
              "</div>"
            ],
            "text/plain": [
              "                                          Complaints  \\\n",
              "0   Unreliable internet! Sick of constant outages...   \n",
              "1   TV signal keeps dropping during crucial momen...   \n",
              "\n",
              "                                             Details  \n",
              "0  {\"Topic\": \"Internet\", \"Problem\": \"Unreliable s...  \n",
              "1  {\"Topic\": \"TV\", \"Problem\": \"Signal dropout\", \"...  "
            ]
          },
          "execution_count": 14,
          "metadata": {},
          "output_type": "execute_result"
        }
      ],
      "source": [
        "training_data[0:2]"
      ]
    },
    {
      "cell_type": "markdown",
      "metadata": {
        "id": "K3haPgzI-ClF"
      },
      "source": [
        "Generate the `training_data.json`"
      ]
    },
    {
      "cell_type": "code",
      "execution_count": 15,
      "metadata": {
        "id": "LNOMxwSX8dE4"
      },
      "outputs": [],
      "source": [
        "for index, row in training_data.iterrows():\n",
        "    save_as_json(row)"
      ]
    },
    {
      "cell_type": "markdown",
      "metadata": {
        "id": "Jo9HFdW0jput"
      },
      "source": [
        "### Step 3 - Fine-tune GPT 3.5 based on our training data\n",
        "\n",
        "- At a high level, fine-tuning consists of the following steps:\n",
        "  1. Prepare and upload training data.\n",
        "  2. Train a new fine-tuned model.\n",
        "  3. Evaluate results and return to step 1 if necessary.\n",
        "  4. Utilize your fine-tuned model.\n",
        "- Fine-tuning beats few-shot learning with more training data, improving task\n",
        "performance while reducing costs and enabling faster, more accurate\n",
        "responses.\n",
        "- You can adjust hyperparameters while fine-tuning your model, such as batch\n",
        "size; learning rate multiplier; and number of epochs (n_epochs)."
      ]
    },
    {
      "cell_type": "markdown",
      "metadata": {
        "id": "h4TMhzSNj4hH"
      },
      "source": [
        "Import the json file we prepared as our training data"
      ]
    },
    {
      "cell_type": "code",
      "execution_count": 16,
      "metadata": {
        "id": "ExJ2cRU5-XtH"
      },
      "outputs": [
        {
          "data": {
            "text/plain": [
              "FileObject(id='file-DrxUhHfmPNEaqf6NHdxcaA', bytes=46789, created_at=1741649683, filename='training_data.jsonl', object='file', purpose='fine-tune', status='processed', status_details=None, expires_at=None)"
            ]
          },
          "execution_count": 16,
          "metadata": {},
          "output_type": "execute_result"
        }
      ],
      "source": [
        "data_file = client.files.create(\n",
        "    file=open('training_data.jsonl', 'rb'),\n",
        "    purpose='fine-tune',\n",
        ")\n",
        "data_file"
      ]
    },
    {
      "cell_type": "markdown",
      "metadata": {
        "id": "TiBcO3I0kIU5"
      },
      "source": [
        "Create the Fine Tuning Job"
      ]
    },
    {
      "cell_type": "code",
      "execution_count": 17,
      "metadata": {
        "id": "BXJB348zkMSx"
      },
      "outputs": [
        {
          "data": {
            "text/plain": [
              "FineTuningJob(id='ftjob-4dnI87wWzMFsuVlsQa4t05BS', created_at=1741649729, error=Error(code=None, message=None, param=None), fine_tuned_model=None, finished_at=None, hyperparameters=Hyperparameters(n_epochs=1, batch_size='auto', learning_rate_multiplier='auto'), model='gpt-3.5-turbo-0125', object='fine_tuning.job', organization_id='org-OrtlKLkF3b4Imbi2nFy8S4VA', result_files=[], seed=1843516666, status='validating_files', trained_tokens=None, training_file='file-DrxUhHfmPNEaqf6NHdxcaA', validation_file=None, estimated_finish=None, integrations=[], user_provided_suffix=None, metadata=None, method={'type': 'supervised', 'supervised': {'hyperparameters': {'batch_size': 'auto', 'learning_rate_multiplier': 'auto', 'n_epochs': 1}}})"
            ]
          },
          "execution_count": 17,
          "metadata": {},
          "output_type": "execute_result"
        }
      ],
      "source": [
        "fine_tuning_job = client.fine_tuning.jobs.create(\n",
        "    training_file=data_file.id,\n",
        "    #model='deepseek-chat',\n",
        "    model='gpt-3.5-turbo',\n",
        "    hyperparameters={\n",
        "        \"n_epochs\": 1\n",
        "    }\n",
        ")\n",
        "fine_tuning_job"
      ]
    },
    {
      "cell_type": "markdown",
      "metadata": {
        "id": "u7XWcO_7kzY6"
      },
      "source": [
        "Let's retrieve the state of the fine-tune"
      ]
    },
    {
      "cell_type": "code",
      "execution_count": 18,
      "metadata": {},
      "outputs": [
        {
          "data": {
            "text/plain": [
              "'validating_files'"
            ]
          },
          "execution_count": 18,
          "metadata": {},
          "output_type": "execute_result"
        }
      ],
      "source": [
        "client.fine_tuning.jobs.retrieve(fine_tuning_job.id).status"
      ]
    },
    {
      "cell_type": "code",
      "execution_count": 19,
      "metadata": {
        "id": "hpbHjWu3AS4k"
      },
      "outputs": [
        {
          "name": "stdout",
          "output_type": "stream",
          "text": [
            "running\n",
            "running\n",
            "running\n",
            "running\n",
            "running\n",
            "running\n",
            "running\n",
            "running\n",
            "running\n",
            "running\n",
            "running\n",
            "running\n",
            "running\n",
            "running\n",
            "running\n",
            "running\n",
            "running\n",
            "succeeded\n",
            "done\n"
          ]
        }
      ],
      "source": [
        "while True:\n",
        "    time.sleep(10)\n",
        "    retrieved_job = client.fine_tuning.jobs.retrieve(fine_tuning_job.id)\n",
        "    status = retrieved_job.status\n",
        "    print(status)\n",
        "    \n",
        "    if status==\"succeeded\":\n",
        "        print('done')\n",
        "        break"
      ]
    },
    {
      "cell_type": "code",
      "execution_count": 25,
      "metadata": {},
      "outputs": [
        {
          "data": {
            "text/plain": [
              "FineTuningJob(id='ftjob-4dnI87wWzMFsuVlsQa4t05BS', created_at=1741649729, error=Error(code=None, message=None, param=None), fine_tuned_model='ft:gpt-3.5-turbo-0125:personal::B9h1UaCR', finished_at=1741650030, hyperparameters=Hyperparameters(n_epochs=1, batch_size=1, learning_rate_multiplier=2), model='gpt-3.5-turbo-0125', object='fine_tuning.job', organization_id='org-OrtlKLkF3b4Imbi2nFy8S4VA', result_files=['file-C1Q9gH7uqW8WRHiQ9V7wf8'], seed=1843516666, status='succeeded', trained_tokens=9052, training_file='file-DrxUhHfmPNEaqf6NHdxcaA', validation_file=None, estimated_finish=None, integrations=[], user_provided_suffix=None, metadata=None, method={'type': 'supervised', 'supervised': {'hyperparameters': {'n_epochs': 1, 'batch_size': 1, 'learning_rate_multiplier': 2.0}}})"
            ]
          },
          "execution_count": 25,
          "metadata": {},
          "output_type": "execute_result"
        }
      ],
      "source": [
        "retrieved_job"
      ]
    },
    {
      "cell_type": "markdown",
      "metadata": {
        "id": "4XB-sFc3kO4A"
      },
      "source": [
        "### Step 4 - Evaluate model"
      ]
    },
    {
      "cell_type": "markdown",
      "metadata": {
        "id": "p_3bNsW3k_eR"
      },
      "source": [
        "Retrieve the event messages to check out the learning process of our fine-tuning job."
      ]
    },
    {
      "cell_type": "code",
      "execution_count": 21,
      "metadata": {},
      "outputs": [
        {
          "data": {
            "text/plain": [
              "[FineTuningJobEvent(id='ftevent-6sOT47ODmM1rj6crdgvxASlT', created_at=1741650037, level='info', message='The job has successfully completed', object='fine_tuning.job.event', data={}, type='message'),\n",
              " FineTuningJobEvent(id='ftevent-pwZ6dhKgRhsNf5gW4N8sbNqh', created_at=1741650032, level='info', message='New fine-tuned model created', object='fine_tuning.job.event', data={}, type='message'),\n",
              " FineTuningJobEvent(id='ftevent-E6imynxpgPR9XMJ1DXh3SU87', created_at=1741650004, level='info', message='Step 67/67: training loss=0.22', object='fine_tuning.job.event', data={'step': 67, 'train_loss': 0.22171585261821747, 'total_steps': 67, 'train_mean_token_accuracy': 0.8888888955116272}, type='metrics'),\n",
              " FineTuningJobEvent(id='ftevent-Ln4rRx1U15E1nEIKLwwwP4ai', created_at=1741650002, level='info', message='Step 66/67: training loss=0.11', object='fine_tuning.job.event', data={'step': 66, 'train_loss': 0.10901905596256256, 'total_steps': 67, 'train_mean_token_accuracy': 0.9615384340286255}, type='metrics'),\n",
              " FineTuningJobEvent(id='ftevent-6xDsFkX6UyW4kacdC50VQDI9', created_at=1741650002, level='info', message='Step 65/67: training loss=0.42', object='fine_tuning.job.event', data={'step': 65, 'train_loss': 0.42156946659088135, 'total_steps': 67, 'train_mean_token_accuracy': 0.8888888955116272}, type='metrics'),\n",
              " FineTuningJobEvent(id='ftevent-XIlbY0jG8Z4moZNdorQ7Ew6S', created_at=1741649999, level='info', message='Step 64/67: training loss=0.05', object='fine_tuning.job.event', data={'step': 64, 'train_loss': 0.05363185703754425, 'total_steps': 67, 'train_mean_token_accuracy': 0.9615384340286255}, type='metrics'),\n",
              " FineTuningJobEvent(id='ftevent-qVXxSoUXad5lorAxFMgauxo7', created_at=1741649999, level='info', message='Step 63/67: training loss=0.09', object='fine_tuning.job.event', data={'step': 63, 'train_loss': 0.09145304560661316, 'total_steps': 67, 'train_mean_token_accuracy': 1.0}, type='metrics'),\n",
              " FineTuningJobEvent(id='ftevent-jempiHmSjHzR8vZSgWUPS7p5', created_at=1741649997, level='info', message='Step 62/67: training loss=0.64', object='fine_tuning.job.event', data={'step': 62, 'train_loss': 0.6434953212738037, 'total_steps': 67, 'train_mean_token_accuracy': 0.8518518805503845}, type='metrics'),\n",
              " FineTuningJobEvent(id='ftevent-45qHKyZNaGRsyyvfpiLtgvj2', created_at=1741649994, level='info', message='Step 61/67: training loss=0.45', object='fine_tuning.job.event', data={'step': 61, 'train_loss': 0.45153120160102844, 'total_steps': 67, 'train_mean_token_accuracy': 0.8846153616905212}, type='metrics'),\n",
              " FineTuningJobEvent(id='ftevent-hqXYccwEHcV7PR3fZLqCYTz5', created_at=1741649994, level='info', message='Step 60/67: training loss=0.06', object='fine_tuning.job.event', data={'step': 60, 'train_loss': 0.06292877346277237, 'total_steps': 67, 'train_mean_token_accuracy': 0.9599999785423279}, type='metrics'),\n",
              " FineTuningJobEvent(id='ftevent-kou3bpaMKLsNxirdhtJRUScX', created_at=1741649992, level='info', message='Step 59/67: training loss=0.12', object='fine_tuning.job.event', data={'step': 59, 'train_loss': 0.11793197691440582, 'total_steps': 67, 'train_mean_token_accuracy': 0.9599999785423279}, type='metrics'),\n",
              " FineTuningJobEvent(id='ftevent-xfJoZbsGperFaJXyhwgvIW1F', created_at=1741649992, level='info', message='Step 58/67: training loss=0.13', object='fine_tuning.job.event', data={'step': 58, 'train_loss': 0.12779346108436584, 'total_steps': 67, 'train_mean_token_accuracy': 0.9230769276618958}, type='metrics'),\n",
              " FineTuningJobEvent(id='ftevent-EcvDma6LNCPyW5PlDPNybL2T', created_at=1741649989, level='info', message='Step 57/67: training loss=0.81', object='fine_tuning.job.event', data={'step': 57, 'train_loss': 0.8093974590301514, 'total_steps': 67, 'train_mean_token_accuracy': 0.8148148059844971}, type='metrics'),\n",
              " FineTuningJobEvent(id='ftevent-4dW5X0CQqCexjwNGLDXwIyeo', created_at=1741649987, level='info', message='Step 56/67: training loss=0.11', object='fine_tuning.job.event', data={'step': 56, 'train_loss': 0.11169794201850891, 'total_steps': 67, 'train_mean_token_accuracy': 0.9259259104728699}, type='metrics'),\n",
              " FineTuningJobEvent(id='ftevent-g0LVTm6ADF0ZxTczUsJ3EBng', created_at=1741649987, level='info', message='Step 55/67: training loss=0.38', object='fine_tuning.job.event', data={'step': 55, 'train_loss': 0.3817248046398163, 'total_steps': 67, 'train_mean_token_accuracy': 0.9259259104728699}, type='metrics'),\n",
              " FineTuningJobEvent(id='ftevent-vjku1EgJDGmt4pbxrWErvR18', created_at=1741649984, level='info', message='Step 54/67: training loss=0.13', object='fine_tuning.job.event', data={'step': 54, 'train_loss': 0.12810198962688446, 'total_steps': 67, 'train_mean_token_accuracy': 0.9259259104728699}, type='metrics'),\n",
              " FineTuningJobEvent(id='ftevent-atVEIkWpYsV5yDsshYcO7wUz', created_at=1741649984, level='info', message='Step 53/67: training loss=0.37', object='fine_tuning.job.event', data={'step': 53, 'train_loss': 0.37394827604293823, 'total_steps': 67, 'train_mean_token_accuracy': 0.9259259104728699}, type='metrics'),\n",
              " FineTuningJobEvent(id='ftevent-IjkDBufxfuxUyUnF6oc6764d', created_at=1741649981, level='info', message='Step 52/67: training loss=0.09', object='fine_tuning.job.event', data={'step': 52, 'train_loss': 0.086448535323143, 'total_steps': 67, 'train_mean_token_accuracy': 0.9642857313156128}, type='metrics'),\n",
              " FineTuningJobEvent(id='ftevent-eZ1yvgdEQ9RoNGVPq8G3qIDx', created_at=1741649979, level='info', message='Step 51/67: training loss=0.08', object='fine_tuning.job.event', data={'step': 51, 'train_loss': 0.08142852783203125, 'total_steps': 67, 'train_mean_token_accuracy': 0.9259259104728699}, type='metrics'),\n",
              " FineTuningJobEvent(id='ftevent-OT07AYz8Z3dzAA6MVIn5A5UP', created_at=1741649979, level='info', message='Step 50/67: training loss=0.08', object='fine_tuning.job.event', data={'step': 50, 'train_loss': 0.08169320970773697, 'total_steps': 67, 'train_mean_token_accuracy': 0.9615384340286255}, type='metrics'),\n",
              " FineTuningJobEvent(id='ftevent-ugIzxmJ5gN9PS7mvobbTcM8M', created_at=1741649976, level='info', message='Step 49/67: training loss=0.05', object='fine_tuning.job.event', data={'step': 49, 'train_loss': 0.05177055299282074, 'total_steps': 67, 'train_mean_token_accuracy': 0.9599999785423279}, type='metrics'),\n",
              " FineTuningJobEvent(id='ftevent-TBQkkQrA3XDC4j6Q6PlnbWLI', created_at=1741649976, level='info', message='Step 48/67: training loss=0.13', object='fine_tuning.job.event', data={'step': 48, 'train_loss': 0.1342758983373642, 'total_steps': 67, 'train_mean_token_accuracy': 0.9599999785423279}, type='metrics'),\n",
              " FineTuningJobEvent(id='ftevent-QO6BDa4XPFrII8fpxKtbcAR8', created_at=1741649974, level='info', message='Step 47/67: training loss=0.27', object='fine_tuning.job.event', data={'step': 47, 'train_loss': 0.2667616307735443, 'total_steps': 67, 'train_mean_token_accuracy': 0.8888888955116272}, type='metrics'),\n",
              " FineTuningJobEvent(id='ftevent-GJQUm8uQCFgaR89EKWq93XzS', created_at=1741649971, level='info', message='Step 46/67: training loss=0.11', object='fine_tuning.job.event', data={'step': 46, 'train_loss': 0.10984703153371811, 'total_steps': 67, 'train_mean_token_accuracy': 0.9629629850387573}, type='metrics'),\n",
              " FineTuningJobEvent(id='ftevent-JDsVxkwDORj1uzuRvYoUrnbr', created_at=1741649971, level='info', message='Step 45/67: training loss=0.06', object='fine_tuning.job.event', data={'step': 45, 'train_loss': 0.05634551867842674, 'total_steps': 67, 'train_mean_token_accuracy': 0.9599999785423279}, type='metrics'),\n",
              " FineTuningJobEvent(id='ftevent-rFDoYfocle3NU1oFZgjjzUPE', created_at=1741649969, level='info', message='Step 44/67: training loss=0.22', object='fine_tuning.job.event', data={'step': 44, 'train_loss': 0.22218391299247742, 'total_steps': 67, 'train_mean_token_accuracy': 0.9200000166893005}, type='metrics'),\n",
              " FineTuningJobEvent(id='ftevent-20LuAF90ar3qWY83jdBI0fR9', created_at=1741649968, level='info', message='Step 43/67: training loss=0.13', object='fine_tuning.job.event', data={'step': 43, 'train_loss': 0.1346958726644516, 'total_steps': 67, 'train_mean_token_accuracy': 0.9642857313156128}, type='metrics'),\n",
              " FineTuningJobEvent(id='ftevent-hj73iG0KEOnpv7DG14wog0gq', created_at=1741649966, level='info', message='Step 42/67: training loss=0.11', object='fine_tuning.job.event', data={'step': 42, 'train_loss': 0.10966866463422775, 'total_steps': 67, 'train_mean_token_accuracy': 0.9629629850387573}, type='metrics'),\n",
              " FineTuningJobEvent(id='ftevent-2QJuGXpVngLpSN4elyFtRO2V', created_at=1741649964, level='info', message='Step 41/67: training loss=0.68', object='fine_tuning.job.event', data={'step': 41, 'train_loss': 0.6799355149269104, 'total_steps': 67, 'train_mean_token_accuracy': 0.8518518805503845}, type='metrics'),\n",
              " FineTuningJobEvent(id='ftevent-5K0G8EiB2i1FGRUoe2DbDuB6', created_at=1741649963, level='info', message='Step 40/67: training loss=0.23', object='fine_tuning.job.event', data={'step': 40, 'train_loss': 0.22782383859157562, 'total_steps': 67, 'train_mean_token_accuracy': 0.8461538553237915}, type='metrics'),\n",
              " FineTuningJobEvent(id='ftevent-UvV8UStIfOsUUYcpocSNvRsc', created_at=1741649961, level='info', message='Step 39/67: training loss=0.22', object='fine_tuning.job.event', data={'step': 39, 'train_loss': 0.21639864146709442, 'total_steps': 67, 'train_mean_token_accuracy': 0.9583333134651184}, type='metrics'),\n",
              " FineTuningJobEvent(id='ftevent-ofVbAsfli7RhN2EjPIG000Sm', created_at=1741649958, level='info', message='Step 38/67: training loss=0.77', object='fine_tuning.job.event', data={'step': 38, 'train_loss': 0.7724043726921082, 'total_steps': 67, 'train_mean_token_accuracy': 0.8518518805503845}, type='metrics'),\n",
              " FineTuningJobEvent(id='ftevent-v2UrgWJgH5KGHbIdwd2gnHoG', created_at=1741649958, level='info', message='Step 37/67: training loss=0.84', object='fine_tuning.job.event', data={'step': 37, 'train_loss': 0.8367417454719543, 'total_steps': 67, 'train_mean_token_accuracy': 0.8518518805503845}, type='metrics'),\n",
              " FineTuningJobEvent(id='ftevent-5L0ycDNw7zUi6dbyeDCYe9n4', created_at=1741649956, level='info', message='Step 36/67: training loss=0.11', object='fine_tuning.job.event', data={'step': 36, 'train_loss': 0.11226879805326462, 'total_steps': 67, 'train_mean_token_accuracy': 0.9259259104728699}, type='metrics'),\n",
              " FineTuningJobEvent(id='ftevent-woDZZmv0S5kJASQOnXUy25Zw', created_at=1741649956, level='info', message='Step 35/67: training loss=0.32', object='fine_tuning.job.event', data={'step': 35, 'train_loss': 0.3176303207874298, 'total_steps': 67, 'train_mean_token_accuracy': 0.9200000166893005}, type='metrics'),\n",
              " FineTuningJobEvent(id='ftevent-K1DsT4APjt8jctUJdx8gDwEP', created_at=1741649953, level='info', message='Step 34/67: training loss=0.18', object='fine_tuning.job.event', data={'step': 34, 'train_loss': 0.17569801211357117, 'total_steps': 67, 'train_mean_token_accuracy': 0.9285714030265808}, type='metrics'),\n",
              " FineTuningJobEvent(id='ftevent-buOGZQ8f5s5k42i4lpY76hqI', created_at=1741649953, level='info', message='Step 33/67: training loss=0.06', object='fine_tuning.job.event', data={'step': 33, 'train_loss': 0.05844474956393242, 'total_steps': 67, 'train_mean_token_accuracy': 0.9599999785423279}, type='metrics'),\n",
              " FineTuningJobEvent(id='ftevent-A1xVssE7Dzb40G98cd0gRf74', created_at=1741649950, level='info', message='Step 32/67: training loss=0.97', object='fine_tuning.job.event', data={'step': 32, 'train_loss': 0.9686198234558105, 'total_steps': 67, 'train_mean_token_accuracy': 0.8518518805503845}, type='metrics'),\n",
              " FineTuningJobEvent(id='ftevent-K5EbPyUGXd5zH4I7w4b9r7ZE', created_at=1741649948, level='info', message='Step 31/67: training loss=0.08', object='fine_tuning.job.event', data={'step': 31, 'train_loss': 0.07979187369346619, 'total_steps': 67, 'train_mean_token_accuracy': 1.0}, type='metrics'),\n",
              " FineTuningJobEvent(id='ftevent-hjx2P3VGVVzO0nQuevFZ7hwS', created_at=1741649948, level='info', message='Step 30/67: training loss=0.16', object='fine_tuning.job.event', data={'step': 30, 'train_loss': 0.16031242907047272, 'total_steps': 67, 'train_mean_token_accuracy': 0.8799999952316284}, type='metrics'),\n",
              " FineTuningJobEvent(id='ftevent-r73LseWsDN4AJwcUks6rZcH4', created_at=1741649945, level='info', message='Step 29/67: training loss=0.08', object='fine_tuning.job.event', data={'step': 29, 'train_loss': 0.08366870880126953, 'total_steps': 67, 'train_mean_token_accuracy': 0.9615384340286255}, type='metrics'),\n",
              " FineTuningJobEvent(id='ftevent-wApwNHwHsmzHvEhF25QAM8a0', created_at=1741649945, level='info', message='Step 28/67: training loss=0.16', object='fine_tuning.job.event', data={'step': 28, 'train_loss': 0.15563049912452698, 'total_steps': 67, 'train_mean_token_accuracy': 0.9200000166893005}, type='metrics'),\n",
              " FineTuningJobEvent(id='ftevent-WRnnwmIqTjInY0v889I4ws1g', created_at=1741649943, level='info', message='Step 27/67: training loss=0.05', object='fine_tuning.job.event', data={'step': 27, 'train_loss': 0.05218828096985817, 'total_steps': 67, 'train_mean_token_accuracy': 1.0}, type='metrics'),\n",
              " FineTuningJobEvent(id='ftevent-JVFjLCZeAiIPB2EVz070eFRz', created_at=1741649940, level='info', message='Step 26/67: training loss=0.22', object='fine_tuning.job.event', data={'step': 26, 'train_loss': 0.21848715841770172, 'total_steps': 67, 'train_mean_token_accuracy': 0.9230769276618958}, type='metrics'),\n",
              " FineTuningJobEvent(id='ftevent-pEqmjK5YlIfQnKPg1BGkAY9E', created_at=1741649940, level='info', message='Step 25/67: training loss=0.07', object='fine_tuning.job.event', data={'step': 25, 'train_loss': 0.0674968734383583, 'total_steps': 67, 'train_mean_token_accuracy': 0.9599999785423279}, type='metrics'),\n",
              " FineTuningJobEvent(id='ftevent-CWrwJaVeeKkboINOG5Bedj9I', created_at=1741649938, level='info', message='Step 24/67: training loss=0.21', object='fine_tuning.job.event', data={'step': 24, 'train_loss': 0.20703741908073425, 'total_steps': 67, 'train_mean_token_accuracy': 0.9230769276618958}, type='metrics'),\n",
              " FineTuningJobEvent(id='ftevent-yOqIKVm8F0hzzxPbT7TkU12N', created_at=1741649935, level='info', message='Step 23/67: training loss=0.11', object='fine_tuning.job.event', data={'step': 23, 'train_loss': 0.10658711940050125, 'total_steps': 67, 'train_mean_token_accuracy': 0.9615384340286255}, type='metrics'),\n",
              " FineTuningJobEvent(id='ftevent-qnOIZLG0MUhm6v2mvSMjAf42', created_at=1741649935, level='info', message='Step 22/67: training loss=0.19', object='fine_tuning.job.event', data={'step': 22, 'train_loss': 0.1938832551240921, 'total_steps': 67, 'train_mean_token_accuracy': 0.8888888955116272}, type='metrics'),\n",
              " FineTuningJobEvent(id='ftevent-YO0fXuc3ifDkMPUluIm0iV8G', created_at=1741649933, level='info', message='Step 21/67: training loss=0.59', object='fine_tuning.job.event', data={'step': 21, 'train_loss': 0.5914086699485779, 'total_steps': 67, 'train_mean_token_accuracy': 0.9200000166893005}, type='metrics'),\n",
              " FineTuningJobEvent(id='ftevent-Ijxx81ihhoirZQPqyx2DGntF', created_at=1741649932, level='info', message='Step 20/67: training loss=0.18', object='fine_tuning.job.event', data={'step': 20, 'train_loss': 0.17753078043460846, 'total_steps': 67, 'train_mean_token_accuracy': 0.9629629850387573}, type='metrics'),\n",
              " FineTuningJobEvent(id='ftevent-p3LSF8Pszj2VZhvgfn6EgWfX', created_at=1741649930, level='info', message='Step 19/67: training loss=1.27', object='fine_tuning.job.event', data={'step': 19, 'train_loss': 1.2661592960357666, 'total_steps': 67, 'train_mean_token_accuracy': 0.8518518805503845}, type='metrics'),\n",
              " FineTuningJobEvent(id='ftevent-atLr1ZKwn8gqcTulXYZG5odl', created_at=1741649928, level='info', message='Step 18/67: training loss=0.07', object='fine_tuning.job.event', data={'step': 18, 'train_loss': 0.07178332656621933, 'total_steps': 67, 'train_mean_token_accuracy': 1.0}, type='metrics'),\n",
              " FineTuningJobEvent(id='ftevent-YpeokqdZAzaE3avF3zhFvxlS', created_at=1741649928, level='info', message='Step 17/67: training loss=0.72', object='fine_tuning.job.event', data={'step': 17, 'train_loss': 0.7176682353019714, 'total_steps': 67, 'train_mean_token_accuracy': 0.8399999737739563}, type='metrics'),\n",
              " FineTuningJobEvent(id='ftevent-99gckQmWODNFTOKJhgTlgetP', created_at=1741649928, level='info', message='Step 16/67: training loss=0.31', object='fine_tuning.job.event', data={'step': 16, 'train_loss': 0.314785897731781, 'total_steps': 67, 'train_mean_token_accuracy': 0.9230769276618958}, type='metrics'),\n",
              " FineTuningJobEvent(id='ftevent-En6bO8M4W4jvi9v1fEfkqye9', created_at=1741649925, level='info', message='Step 15/67: training loss=0.30', object='fine_tuning.job.event', data={'step': 15, 'train_loss': 0.3006632626056671, 'total_steps': 67, 'train_mean_token_accuracy': 0.9629629850387573}, type='metrics'),\n",
              " FineTuningJobEvent(id='ftevent-M41SkJf262zWiKcEOuF0ente', created_at=1741649922, level='info', message='Step 14/67: training loss=0.21', object='fine_tuning.job.event', data={'step': 14, 'train_loss': 0.21243369579315186, 'total_steps': 67, 'train_mean_token_accuracy': 0.9200000166893005}, type='metrics'),\n",
              " FineTuningJobEvent(id='ftevent-ORFzHv2UoKgKtgZ5VIVE67h0', created_at=1741649922, level='info', message='Step 13/67: training loss=0.30', object='fine_tuning.job.event', data={'step': 13, 'train_loss': 0.30186066031455994, 'total_steps': 67, 'train_mean_token_accuracy': 0.9599999785423279}, type='metrics'),\n",
              " FineTuningJobEvent(id='ftevent-JnXn4ajKQheIQqwQpUCjkRU6', created_at=1741649920, level='info', message='Step 12/67: training loss=0.45', object='fine_tuning.job.event', data={'step': 12, 'train_loss': 0.4525224268436432, 'total_steps': 67, 'train_mean_token_accuracy': 0.9285714030265808}, type='metrics'),\n",
              " FineTuningJobEvent(id='ftevent-4ODoDY2KvmBduoeZGv039Hf9', created_at=1741649917, level='info', message='Step 11/67: training loss=0.03', object='fine_tuning.job.event', data={'step': 11, 'train_loss': 0.034450456500053406, 'total_steps': 67, 'train_mean_token_accuracy': 1.0}, type='metrics'),\n",
              " FineTuningJobEvent(id='ftevent-p8TPrNDUt1tk46hDVC0ZZap1', created_at=1741649917, level='info', message='Step 10/67: training loss=0.07', object='fine_tuning.job.event', data={'step': 10, 'train_loss': 0.07380714267492294, 'total_steps': 67, 'train_mean_token_accuracy': 1.0}, type='metrics'),\n",
              " FineTuningJobEvent(id='ftevent-Wo2hPEhDryQCVnANz3zaOryJ', created_at=1741649915, level='info', message='Step 9/67: training loss=0.05', object='fine_tuning.job.event', data={'step': 9, 'train_loss': 0.05189041048288345, 'total_steps': 67, 'train_mean_token_accuracy': 1.0}, type='metrics'),\n",
              " FineTuningJobEvent(id='ftevent-z7Bm7NIj07nfjCH5vHLVzGmd', created_at=1741649914, level='info', message='Step 8/67: training loss=1.81', object='fine_tuning.job.event', data={'step': 8, 'train_loss': 1.8084503412246704, 'total_steps': 67, 'train_mean_token_accuracy': 0.7777777910232544}, type='metrics'),\n",
              " FineTuningJobEvent(id='ftevent-wa8gva7DEuGOooFVaupTu4GA', created_at=1741649912, level='info', message='Step 7/67: training loss=0.52', object='fine_tuning.job.event', data={'step': 7, 'train_loss': 0.5186401605606079, 'total_steps': 67, 'train_mean_token_accuracy': 0.8399999737739563}, type='metrics'),\n",
              " FineTuningJobEvent(id='ftevent-WO8PksIwpOJFqUAbDf0Kf2mR', created_at=1741649910, level='info', message='Step 6/67: training loss=0.46', object='fine_tuning.job.event', data={'step': 6, 'train_loss': 0.45784899592399597, 'total_steps': 67, 'train_mean_token_accuracy': 0.8846153616905212}, type='metrics'),\n",
              " FineTuningJobEvent(id='ftevent-CU64l1GkNS0uAk4BG6UE2sUk', created_at=1741649910, level='info', message='Step 5/67: training loss=1.05', object='fine_tuning.job.event', data={'step': 5, 'train_loss': 1.0459060668945312, 'total_steps': 67, 'train_mean_token_accuracy': 0.8518518805503845}, type='metrics'),\n",
              " FineTuningJobEvent(id='ftevent-k3qIgTSW6q45q04vmRFIMpCb', created_at=1741649907, level='info', message='Step 4/67: training loss=3.95', object='fine_tuning.job.event', data={'step': 4, 'train_loss': 3.9465627670288086, 'total_steps': 67, 'train_mean_token_accuracy': 0.6666666865348816}, type='metrics'),\n",
              " FineTuningJobEvent(id='ftevent-m9MszCjeBSt0a8EO0mofg8xb', created_at=1741649907, level='info', message='Step 3/67: training loss=1.51', object='fine_tuning.job.event', data={'step': 3, 'train_loss': 1.5080584287643433, 'total_steps': 67, 'train_mean_token_accuracy': 0.8461538553237915}, type='metrics'),\n",
              " FineTuningJobEvent(id='ftevent-XnYXNzGeh8J2wnYypp2AqQBx', created_at=1741649904, level='info', message='Step 2/67: training loss=3.02', object='fine_tuning.job.event', data={'step': 2, 'train_loss': 3.0210723876953125, 'total_steps': 67, 'train_mean_token_accuracy': 0.7037037014961243}, type='metrics'),\n",
              " FineTuningJobEvent(id='ftevent-AW8mIjz0OUYncqajua56DZHC', created_at=1741649902, level='info', message='Step 1/67: training loss=1.01', object='fine_tuning.job.event', data={'step': 1, 'train_loss': 1.0149857997894287, 'total_steps': 67, 'train_mean_token_accuracy': 0.8846153616905212}, type='metrics'),\n",
              " FineTuningJobEvent(id='ftevent-vs3r8ofbuFnq0cIKYBYo0wTI', created_at=1741649799, level='info', message='Fine-tuning job started', object='fine_tuning.job.event', data=None, type='message'),\n",
              " FineTuningJobEvent(id='ftevent-D36ArHLL7ZocSHElzkXZfMtV', created_at=1741649797, level='info', message='Files validated, moving job to queued state', object='fine_tuning.job.event', data={}, type='message'),\n",
              " FineTuningJobEvent(id='ftevent-C3xvSfxhcAJajZIhH5njKMOA', created_at=1741649729, level='info', message='Validating training file: file-DrxUhHfmPNEaqf6NHdxcaA', object='fine_tuning.job.event', data={}, type='message'),\n",
              " FineTuningJobEvent(id='ftevent-K7V3fsocdJLdceN1GYgYIpCi', created_at=1741649729, level='info', message='Created fine-tuning job: ftjob-4dnI87wWzMFsuVlsQa4t05BS', object='fine_tuning.job.event', data={}, type='message')]"
            ]
          },
          "execution_count": 21,
          "metadata": {},
          "output_type": "execute_result"
        }
      ],
      "source": [
        "client.fine_tuning.jobs.list_events(fine_tuning_job_id=retrieved_job.id, limit=100).data"
      ]
    },
    {
      "cell_type": "code",
      "execution_count": 22,
      "metadata": {
        "id": "O2bif68aIEGJ"
      },
      "outputs": [
        {
          "name": "stdout",
          "output_type": "stream",
          "text": [
            "The job has successfully completed\n",
            "New fine-tuned model created\n",
            "Step 67/67: training loss=0.22\n",
            "Step 66/67: training loss=0.11\n",
            "Step 65/67: training loss=0.42\n",
            "Step 64/67: training loss=0.05\n",
            "Step 63/67: training loss=0.09\n",
            "Step 62/67: training loss=0.64\n",
            "Step 61/67: training loss=0.45\n",
            "Step 60/67: training loss=0.06\n",
            "Step 59/67: training loss=0.12\n",
            "Step 58/67: training loss=0.13\n",
            "Step 57/67: training loss=0.81\n",
            "Step 56/67: training loss=0.11\n",
            "Step 55/67: training loss=0.38\n",
            "Step 54/67: training loss=0.13\n",
            "Step 53/67: training loss=0.37\n",
            "Step 52/67: training loss=0.09\n",
            "Step 51/67: training loss=0.08\n",
            "Step 50/67: training loss=0.08\n",
            "Step 49/67: training loss=0.05\n",
            "Step 48/67: training loss=0.13\n",
            "Step 47/67: training loss=0.27\n",
            "Step 46/67: training loss=0.11\n",
            "Step 45/67: training loss=0.06\n",
            "Step 44/67: training loss=0.22\n",
            "Step 43/67: training loss=0.13\n",
            "Step 42/67: training loss=0.11\n",
            "Step 41/67: training loss=0.68\n",
            "Step 40/67: training loss=0.23\n",
            "Step 39/67: training loss=0.22\n",
            "Step 38/67: training loss=0.77\n",
            "Step 37/67: training loss=0.84\n",
            "Step 36/67: training loss=0.11\n",
            "Step 35/67: training loss=0.32\n",
            "Step 34/67: training loss=0.18\n",
            "Step 33/67: training loss=0.06\n",
            "Step 32/67: training loss=0.97\n",
            "Step 31/67: training loss=0.08\n",
            "Step 30/67: training loss=0.16\n",
            "Step 29/67: training loss=0.08\n",
            "Step 28/67: training loss=0.16\n",
            "Step 27/67: training loss=0.05\n",
            "Step 26/67: training loss=0.22\n",
            "Step 25/67: training loss=0.07\n",
            "Step 24/67: training loss=0.21\n",
            "Step 23/67: training loss=0.11\n",
            "Step 22/67: training loss=0.19\n",
            "Step 21/67: training loss=0.59\n",
            "Step 20/67: training loss=0.18\n",
            "Step 19/67: training loss=1.27\n",
            "Step 18/67: training loss=0.07\n",
            "Step 17/67: training loss=0.72\n",
            "Step 16/67: training loss=0.31\n",
            "Step 15/67: training loss=0.30\n",
            "Step 14/67: training loss=0.21\n",
            "Step 13/67: training loss=0.30\n",
            "Step 12/67: training loss=0.45\n",
            "Step 11/67: training loss=0.03\n",
            "Step 10/67: training loss=0.07\n",
            "Step 9/67: training loss=0.05\n",
            "Step 8/67: training loss=1.81\n",
            "Step 7/67: training loss=0.52\n",
            "Step 6/67: training loss=0.46\n",
            "Step 5/67: training loss=1.05\n",
            "Step 4/67: training loss=3.95\n",
            "Step 3/67: training loss=1.51\n",
            "Step 2/67: training loss=3.02\n",
            "Step 1/67: training loss=1.01\n",
            "Fine-tuning job started\n",
            "Files validated, moving job to queued state\n",
            "Validating training file: file-DrxUhHfmPNEaqf6NHdxcaA\n",
            "Created fine-tuning job: ftjob-4dnI87wWzMFsuVlsQa4t05BS\n"
          ]
        }
      ],
      "source": [
        "events = list(client.fine_tuning.jobs.list_events(fine_tuning_job_id=retrieved_job.id, limit=100).data)\n",
        "\n",
        "for e in events:\n",
        "    print(e.message)"
      ]
    },
    {
      "cell_type": "markdown",
      "metadata": {
        "id": "Pe3jUJJjyeO1"
      },
      "source": [
        "Let's extract the training loss in each learning step"
      ]
    },
    {
      "cell_type": "code",
      "execution_count": null,
      "metadata": {},
      "outputs": [],
      "source": [
        "# data={'step': 66, 'train_loss': 0.10901905596256256, 'total_steps': 67, 'train_mean_token_accuracy': 0.9615384340286255}"
      ]
    },
    {
      "cell_type": "code",
      "execution_count": 23,
      "metadata": {
        "id": "oqhDoVBNzW_w"
      },
      "outputs": [
        {
          "name": "stdout",
          "output_type": "stream",
          "text": [
            "[67, 66, 65, 64, 63, 62, 61, 60, 59, 58, 57, 56, 55, 54, 53, 52, 51, 50, 49, 48, 47, 46, 45, 44, 43, 42, 41, 40, 39, 38, 37, 36, 35, 34, 33, 32, 31, 30, 29, 28, 27, 26, 25, 24, 23, 22, 21, 20, 19, 18, 17, 16, 15, 14, 13, 12, 11, 10, 9, 8, 7, 6, 5, 4, 3, 2, 1]\n",
            "[0.22171585261821747, 0.10901905596256256, 0.42156946659088135, 0.05363185703754425, 0.09145304560661316, 0.6434953212738037, 0.45153120160102844, 0.06292877346277237, 0.11793197691440582, 0.12779346108436584, 0.8093974590301514, 0.11169794201850891, 0.3817248046398163, 0.12810198962688446, 0.37394827604293823, 0.086448535323143, 0.08142852783203125, 0.08169320970773697, 0.05177055299282074, 0.1342758983373642, 0.2667616307735443, 0.10984703153371811, 0.05634551867842674, 0.22218391299247742, 0.1346958726644516, 0.10966866463422775, 0.6799355149269104, 0.22782383859157562, 0.21639864146709442, 0.7724043726921082, 0.8367417454719543, 0.11226879805326462, 0.3176303207874298, 0.17569801211357117, 0.05844474956393242, 0.9686198234558105, 0.07979187369346619, 0.16031242907047272, 0.08366870880126953, 0.15563049912452698, 0.05218828096985817, 0.21848715841770172, 0.0674968734383583, 0.20703741908073425, 0.10658711940050125, 0.1938832551240921, 0.5914086699485779, 0.17753078043460846, 1.2661592960357666, 0.07178332656621933, 0.7176682353019714, 0.314785897731781, 0.3006632626056671, 0.21243369579315186, 0.30186066031455994, 0.4525224268436432, 0.034450456500053406, 0.07380714267492294, 0.05189041048288345, 1.8084503412246704, 0.5186401605606079, 0.45784899592399597, 1.0459060668945312, 3.9465627670288086, 1.5080584287643433, 3.0210723876953125, 1.0149857997894287]\n"
          ]
        }
      ],
      "source": [
        "steps = []\n",
        "train_loss =[]\n",
        "\n",
        "for e in events:\n",
        "    if e.data:\n",
        "        steps.append(e.data['step'])\n",
        "        train_loss.append(e.data['train_loss'])\n",
        "        \n",
        "print(steps)\n",
        "print(train_loss)"
      ]
    },
    {
      "cell_type": "markdown",
      "metadata": {
        "id": "iiiJIUuq2W4D"
      },
      "source": [
        "Use a line chart to visualize the train_loss in each step"
      ]
    },
    {
      "cell_type": "code",
      "execution_count": 24,
      "metadata": {
        "id": "EMRvEd-F2bLO"
      },
      "outputs": [
        {
          "data": {
            "text/plain": [
              "[<matplotlib.lines.Line2D at 0x1e2a490f390>]"
            ]
          },
          "execution_count": 24,
          "metadata": {},
          "output_type": "execute_result"
        },
        {
          "data": {
            "image/png": "[encoded data removed]",
            "text/plain": [
              "<Figure size 640x480 with 1 Axes>"
            ]
          },
          "metadata": {},
          "output_type": "display_data"
        }
      ],
      "source": [
        "plt.plot(steps, train_loss, marker='o', linestyle='-')"
      ]
    },
    {
      "cell_type": "markdown",
      "metadata": {
        "id": "8lGyZnvk25q9"
      },
      "source": [
        "### Step 5 - Deploy our model"
      ]
    },
    {
      "cell_type": "markdown",
      "metadata": {
        "id": "EYljL-wH42ce"
      },
      "source": [
        "Let's take a look at `retrieved_job` again"
      ]
    },
    {
      "cell_type": "code",
      "execution_count": 27,
      "metadata": {
        "id": "q4ChDCWo3H85"
      },
      "outputs": [],
      "source": [
        "myLLM = retrieved_job.fine_tuned_model"
      ]
    },
    {
      "cell_type": "markdown",
      "metadata": {
        "id": "nLLfuwC4-h9K"
      },
      "source": [
        "Defining a method to extract information from a given user complaint using a specific LLM and return the results."
      ]
    },
    {
      "cell_type": "code",
      "execution_count": 5,
      "metadata": {
        "id": "P3_99_Hf5CV1"
      },
      "outputs": [],
      "source": [
        "def extract_details(user_complaint, model_name):\n",
        "    \"\"\"\n",
        "    This function extracts information from a given user complaint using a specific LLM (Large Language Model).\n",
        "\n",
        "    Parameters:\n",
        "    user_complaint (str): The text of the user's complaint.\n",
        "    model_name (str): The name of the specific LLM model to use for extraction.\n",
        "    \"\"\"\n",
        "\n",
        "    system_content = \"\"\"\n",
        "        Given a customer complaint text, extract and return the following information in JSON (dict) format:\n",
        "        - Topic\n",
        "        - Problem\n",
        "        - Customer_Dissatisfaction_Index\n",
        "    \"\"\"\n",
        "\n",
        "    # Generate a response using the specified model and the user's complaint\n",
        "    response = client.chat.completions.create(\n",
        "        model = model_name,\n",
        "        messages=[\n",
        "            {\"role\": \"system\", \"content\": system_content},  # System content explaining the expected output\n",
        "            {\"role\": \"user\", \"content\": user_complaint}  # User's complaint passed as content\n",
        "        ]\n",
        "    )\n",
        "\n",
        "    # Return the content of the generated response\n",
        "    return response.choices[0].message.content\n"
      ]
    },
    {
      "cell_type": "markdown",
      "metadata": {
        "id": "zE_O2zAwplof"
      },
      "source": [
        "Use our fine-tuned model to extract the details for the following user complaint:\n",
        "\n",
        "*TV channels keep disappearing from my subscription! What's going on? Extremely annoyed with this service!*"
      ]
    },
    {
      "cell_type": "code",
      "execution_count": 6,
      "metadata": {
        "id": "vD1dEjnzWTuw"
      },
      "outputs": [
        {
          "data": {
            "text/plain": [
              "'{\"Topic\": \"TV\", \"Problem\": \"Channels Disappearing\", \"Customer_Dissatisfaction_Index\": \"High\"}'"
            ]
          },
          "execution_count": 6,
          "metadata": {},
          "output_type": "execute_result"
        }
      ],
      "source": [
        "complaint = \"TV channels keep disappearing from my subscription! what is going on? Extremely annoyed with this service!\"\n",
        "extract_details(complaint, myLLM)"
      ]
    },
    {
      "cell_type": "markdown",
      "metadata": {
        "id": "LJNgLZoS6-gw"
      },
      "source": [
        "Let's test our `GPT-4` model with the same user complaint"
      ]
    },
    {
      "cell_type": "code",
      "execution_count": 7,
      "metadata": {
        "id": "G2XBuw0N47AC"
      },
      "outputs": [
        {
          "data": {
            "text/plain": [
              "'{\\n  \"Topic\": \"TV Service\",\\n  \"Problem\": \"TV channels disappearing from subscription\",\\n  \"Customer_Dissatisfaction_Index\": \"High\"\\n}'"
            ]
          },
          "execution_count": 7,
          "metadata": {},
          "output_type": "execute_result"
        }
      ],
      "source": [
        "extract_details(complaint, 'gpt-4')"
      ]
    },
    {
      "cell_type": "markdown",
      "metadata": {
        "id": "YvqSymjWueXu"
      },
      "source": [
        "We can see that our model, which is trained on our dataset, provides better answers compared to GPT-4. Our model is fine-tuned based on our data and is familiar with the different edge cases and the context of our dataset."
      ]
    },
    {
      "cell_type": "code",
      "execution_count": null,
      "metadata": {
        "id": "wVQQfAAXy-v8"
      },
      "outputs": [],
      "source": [
        "customer_complaint = \"I am very Angry! I want my money back!\"\n",
        "extract_details(customer_complaint, myLLM)"
      ]
    }
  ],
  "metadata": {
    "colab": {
      "collapsed_sections": [
        "1Rp80dTGpsDD",
        "0r2XnfwnqTCK",
        "Jo9HFdW0jput",
        "4XB-sFc3kO4A",
        "8lGyZnvk25q9"
      ],
      "provenance": []
    },
    "kernelspec": {
      "display_name": ".venv",
      "language": "python",
      "name": "python3"
    },
    "language_info": {
      "codemirror_mode": {
        "name": "ipython",
        "version": 3
      },
      "file_extension": ".py",
      "mimetype": "text/x-python",
      "name": "python",
      "nbconvert_exporter": "python",
      "pygments_lexer": "ipython3",
      "version": "3.13.2"
    }
  },
  "nbformat": 4,
  "nbformat_minor": 0
}
